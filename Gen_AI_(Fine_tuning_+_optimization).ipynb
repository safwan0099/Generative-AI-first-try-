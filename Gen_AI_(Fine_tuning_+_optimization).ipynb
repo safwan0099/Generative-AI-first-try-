{
  "nbformat": 4,
  "nbformat_minor": 0,
  "metadata": {
    "colab": {
      "provenance": []
    },
    "kernelspec": {
      "name": "python3",
      "display_name": "Python 3"
    },
    "language_info": {
      "name": "python"
    },
    "widgets": {
      "application/vnd.jupyter.widget-state+json": {
        "8dd7973bd2114f9981874d4b9bba65dd": {
          "model_module": "@jupyter-widgets/controls",
          "model_name": "HBoxModel",
          "model_module_version": "1.5.0",
          "state": {
            "_dom_classes": [],
            "_model_module": "@jupyter-widgets/controls",
            "_model_module_version": "1.5.0",
            "_model_name": "HBoxModel",
            "_view_count": null,
            "_view_module": "@jupyter-widgets/controls",
            "_view_module_version": "1.5.0",
            "_view_name": "HBoxView",
            "box_style": "",
            "children": [
              "IPY_MODEL_5472973604bc48d1b1a461c67de46c1f",
              "IPY_MODEL_6455c0c6b7d54d2a83dd02c8c220ed95",
              "IPY_MODEL_b6151d40615c40aa819eb15b3cea5a95"
            ],
            "layout": "IPY_MODEL_4a233d7a6bd946e7a6deb769798256ed"
          }
        },
        "5472973604bc48d1b1a461c67de46c1f": {
          "model_module": "@jupyter-widgets/controls",
          "model_name": "HTMLModel",
          "model_module_version": "1.5.0",
          "state": {
            "_dom_classes": [],
            "_model_module": "@jupyter-widgets/controls",
            "_model_module_version": "1.5.0",
            "_model_name": "HTMLModel",
            "_view_count": null,
            "_view_module": "@jupyter-widgets/controls",
            "_view_module_version": "1.5.0",
            "_view_name": "HTMLView",
            "description": "",
            "description_tooltip": null,
            "layout": "IPY_MODEL_f2bf2d661ded4af895fc789b68025c35",
            "placeholder": "​",
            "style": "IPY_MODEL_55d4c2ace68845d59e5d89c9470e693b",
            "value": "config.json: 100%"
          }
        },
        "6455c0c6b7d54d2a83dd02c8c220ed95": {
          "model_module": "@jupyter-widgets/controls",
          "model_name": "FloatProgressModel",
          "model_module_version": "1.5.0",
          "state": {
            "_dom_classes": [],
            "_model_module": "@jupyter-widgets/controls",
            "_model_module_version": "1.5.0",
            "_model_name": "FloatProgressModel",
            "_view_count": null,
            "_view_module": "@jupyter-widgets/controls",
            "_view_module_version": "1.5.0",
            "_view_name": "ProgressView",
            "bar_style": "success",
            "description": "",
            "description_tooltip": null,
            "layout": "IPY_MODEL_b70a9e7b22c948fcb804d2acb1daf76f",
            "max": 662,
            "min": 0,
            "orientation": "horizontal",
            "style": "IPY_MODEL_18b8196adbcf419d9ffbc4fe1b62ff56",
            "value": 662
          }
        },
        "b6151d40615c40aa819eb15b3cea5a95": {
          "model_module": "@jupyter-widgets/controls",
          "model_name": "HTMLModel",
          "model_module_version": "1.5.0",
          "state": {
            "_dom_classes": [],
            "_model_module": "@jupyter-widgets/controls",
            "_model_module_version": "1.5.0",
            "_model_name": "HTMLModel",
            "_view_count": null,
            "_view_module": "@jupyter-widgets/controls",
            "_view_module_version": "1.5.0",
            "_view_name": "HTMLView",
            "description": "",
            "description_tooltip": null,
            "layout": "IPY_MODEL_509dd1cf42e54869994a0e6e9c4f2bb9",
            "placeholder": "​",
            "style": "IPY_MODEL_744b36ee2ee44461b92e585649afe3ca",
            "value": " 662/662 [00:00&lt;00:00, 13.1kB/s]"
          }
        },
        "4a233d7a6bd946e7a6deb769798256ed": {
          "model_module": "@jupyter-widgets/base",
          "model_name": "LayoutModel",
          "model_module_version": "1.2.0",
          "state": {
            "_model_module": "@jupyter-widgets/base",
            "_model_module_version": "1.2.0",
            "_model_name": "LayoutModel",
            "_view_count": null,
            "_view_module": "@jupyter-widgets/base",
            "_view_module_version": "1.2.0",
            "_view_name": "LayoutView",
            "align_content": null,
            "align_items": null,
            "align_self": null,
            "border": null,
            "bottom": null,
            "display": null,
            "flex": null,
            "flex_flow": null,
            "grid_area": null,
            "grid_auto_columns": null,
            "grid_auto_flow": null,
            "grid_auto_rows": null,
            "grid_column": null,
            "grid_gap": null,
            "grid_row": null,
            "grid_template_areas": null,
            "grid_template_columns": null,
            "grid_template_rows": null,
            "height": null,
            "justify_content": null,
            "justify_items": null,
            "left": null,
            "margin": null,
            "max_height": null,
            "max_width": null,
            "min_height": null,
            "min_width": null,
            "object_fit": null,
            "object_position": null,
            "order": null,
            "overflow": null,
            "overflow_x": null,
            "overflow_y": null,
            "padding": null,
            "right": null,
            "top": null,
            "visibility": null,
            "width": null
          }
        },
        "f2bf2d661ded4af895fc789b68025c35": {
          "model_module": "@jupyter-widgets/base",
          "model_name": "LayoutModel",
          "model_module_version": "1.2.0",
          "state": {
            "_model_module": "@jupyter-widgets/base",
            "_model_module_version": "1.2.0",
            "_model_name": "LayoutModel",
            "_view_count": null,
            "_view_module": "@jupyter-widgets/base",
            "_view_module_version": "1.2.0",
            "_view_name": "LayoutView",
            "align_content": null,
            "align_items": null,
            "align_self": null,
            "border": null,
            "bottom": null,
            "display": null,
            "flex": null,
            "flex_flow": null,
            "grid_area": null,
            "grid_auto_columns": null,
            "grid_auto_flow": null,
            "grid_auto_rows": null,
            "grid_column": null,
            "grid_gap": null,
            "grid_row": null,
            "grid_template_areas": null,
            "grid_template_columns": null,
            "grid_template_rows": null,
            "height": null,
            "justify_content": null,
            "justify_items": null,
            "left": null,
            "margin": null,
            "max_height": null,
            "max_width": null,
            "min_height": null,
            "min_width": null,
            "object_fit": null,
            "object_position": null,
            "order": null,
            "overflow": null,
            "overflow_x": null,
            "overflow_y": null,
            "padding": null,
            "right": null,
            "top": null,
            "visibility": null,
            "width": null
          }
        },
        "55d4c2ace68845d59e5d89c9470e693b": {
          "model_module": "@jupyter-widgets/controls",
          "model_name": "DescriptionStyleModel",
          "model_module_version": "1.5.0",
          "state": {
            "_model_module": "@jupyter-widgets/controls",
            "_model_module_version": "1.5.0",
            "_model_name": "DescriptionStyleModel",
            "_view_count": null,
            "_view_module": "@jupyter-widgets/base",
            "_view_module_version": "1.2.0",
            "_view_name": "StyleView",
            "description_width": ""
          }
        },
        "b70a9e7b22c948fcb804d2acb1daf76f": {
          "model_module": "@jupyter-widgets/base",
          "model_name": "LayoutModel",
          "model_module_version": "1.2.0",
          "state": {
            "_model_module": "@jupyter-widgets/base",
            "_model_module_version": "1.2.0",
            "_model_name": "LayoutModel",
            "_view_count": null,
            "_view_module": "@jupyter-widgets/base",
            "_view_module_version": "1.2.0",
            "_view_name": "LayoutView",
            "align_content": null,
            "align_items": null,
            "align_self": null,
            "border": null,
            "bottom": null,
            "display": null,
            "flex": null,
            "flex_flow": null,
            "grid_area": null,
            "grid_auto_columns": null,
            "grid_auto_flow": null,
            "grid_auto_rows": null,
            "grid_column": null,
            "grid_gap": null,
            "grid_row": null,
            "grid_template_areas": null,
            "grid_template_columns": null,
            "grid_template_rows": null,
            "height": null,
            "justify_content": null,
            "justify_items": null,
            "left": null,
            "margin": null,
            "max_height": null,
            "max_width": null,
            "min_height": null,
            "min_width": null,
            "object_fit": null,
            "object_position": null,
            "order": null,
            "overflow": null,
            "overflow_x": null,
            "overflow_y": null,
            "padding": null,
            "right": null,
            "top": null,
            "visibility": null,
            "width": null
          }
        },
        "18b8196adbcf419d9ffbc4fe1b62ff56": {
          "model_module": "@jupyter-widgets/controls",
          "model_name": "ProgressStyleModel",
          "model_module_version": "1.5.0",
          "state": {
            "_model_module": "@jupyter-widgets/controls",
            "_model_module_version": "1.5.0",
            "_model_name": "ProgressStyleModel",
            "_view_count": null,
            "_view_module": "@jupyter-widgets/base",
            "_view_module_version": "1.2.0",
            "_view_name": "StyleView",
            "bar_color": null,
            "description_width": ""
          }
        },
        "509dd1cf42e54869994a0e6e9c4f2bb9": {
          "model_module": "@jupyter-widgets/base",
          "model_name": "LayoutModel",
          "model_module_version": "1.2.0",
          "state": {
            "_model_module": "@jupyter-widgets/base",
            "_model_module_version": "1.2.0",
            "_model_name": "LayoutModel",
            "_view_count": null,
            "_view_module": "@jupyter-widgets/base",
            "_view_module_version": "1.2.0",
            "_view_name": "LayoutView",
            "align_content": null,
            "align_items": null,
            "align_self": null,
            "border": null,
            "bottom": null,
            "display": null,
            "flex": null,
            "flex_flow": null,
            "grid_area": null,
            "grid_auto_columns": null,
            "grid_auto_flow": null,
            "grid_auto_rows": null,
            "grid_column": null,
            "grid_gap": null,
            "grid_row": null,
            "grid_template_areas": null,
            "grid_template_columns": null,
            "grid_template_rows": null,
            "height": null,
            "justify_content": null,
            "justify_items": null,
            "left": null,
            "margin": null,
            "max_height": null,
            "max_width": null,
            "min_height": null,
            "min_width": null,
            "object_fit": null,
            "object_position": null,
            "order": null,
            "overflow": null,
            "overflow_x": null,
            "overflow_y": null,
            "padding": null,
            "right": null,
            "top": null,
            "visibility": null,
            "width": null
          }
        },
        "744b36ee2ee44461b92e585649afe3ca": {
          "model_module": "@jupyter-widgets/controls",
          "model_name": "DescriptionStyleModel",
          "model_module_version": "1.5.0",
          "state": {
            "_model_module": "@jupyter-widgets/controls",
            "_model_module_version": "1.5.0",
            "_model_name": "DescriptionStyleModel",
            "_view_count": null,
            "_view_module": "@jupyter-widgets/base",
            "_view_module_version": "1.2.0",
            "_view_name": "StyleView",
            "description_width": ""
          }
        },
        "920872e208e84864a70a69429872162c": {
          "model_module": "@jupyter-widgets/controls",
          "model_name": "HBoxModel",
          "model_module_version": "1.5.0",
          "state": {
            "_dom_classes": [],
            "_model_module": "@jupyter-widgets/controls",
            "_model_module_version": "1.5.0",
            "_model_name": "HBoxModel",
            "_view_count": null,
            "_view_module": "@jupyter-widgets/controls",
            "_view_module_version": "1.5.0",
            "_view_name": "HBoxView",
            "box_style": "",
            "children": [
              "IPY_MODEL_a95b4fa726a24883a398308c7855b917",
              "IPY_MODEL_40b023e6e9944430b9165f4e39078b41",
              "IPY_MODEL_8a7b727da5da4424ba310304e44fbb6a"
            ],
            "layout": "IPY_MODEL_06b9936c25364ef1a0d3b845468d0ada"
          }
        },
        "a95b4fa726a24883a398308c7855b917": {
          "model_module": "@jupyter-widgets/controls",
          "model_name": "HTMLModel",
          "model_module_version": "1.5.0",
          "state": {
            "_dom_classes": [],
            "_model_module": "@jupyter-widgets/controls",
            "_model_module_version": "1.5.0",
            "_model_name": "HTMLModel",
            "_view_count": null,
            "_view_module": "@jupyter-widgets/controls",
            "_view_module_version": "1.5.0",
            "_view_name": "HTMLView",
            "description": "",
            "description_tooltip": null,
            "layout": "IPY_MODEL_6be85fa130ac49e7abc46b4171db511a",
            "placeholder": "​",
            "style": "IPY_MODEL_01645a55e2964a2c91c300fb442d8122",
            "value": "model.safetensors: 100%"
          }
        },
        "40b023e6e9944430b9165f4e39078b41": {
          "model_module": "@jupyter-widgets/controls",
          "model_name": "FloatProgressModel",
          "model_module_version": "1.5.0",
          "state": {
            "_dom_classes": [],
            "_model_module": "@jupyter-widgets/controls",
            "_model_module_version": "1.5.0",
            "_model_name": "FloatProgressModel",
            "_view_count": null,
            "_view_module": "@jupyter-widgets/controls",
            "_view_module_version": "1.5.0",
            "_view_name": "ProgressView",
            "bar_style": "success",
            "description": "",
            "description_tooltip": null,
            "layout": "IPY_MODEL_256fae98c35e4043bd3eefa232b792db",
            "max": 3132668804,
            "min": 0,
            "orientation": "horizontal",
            "style": "IPY_MODEL_93da3dcaf5154c508f4d53a678c7369a",
            "value": 3132668804
          }
        },
        "8a7b727da5da4424ba310304e44fbb6a": {
          "model_module": "@jupyter-widgets/controls",
          "model_name": "HTMLModel",
          "model_module_version": "1.5.0",
          "state": {
            "_dom_classes": [],
            "_model_module": "@jupyter-widgets/controls",
            "_model_module_version": "1.5.0",
            "_model_name": "HTMLModel",
            "_view_count": null,
            "_view_module": "@jupyter-widgets/controls",
            "_view_module_version": "1.5.0",
            "_view_name": "HTMLView",
            "description": "",
            "description_tooltip": null,
            "layout": "IPY_MODEL_55e2a1fd6fd649a3ba82cc485fdd2ac4",
            "placeholder": "​",
            "style": "IPY_MODEL_a5c8a8e2b7de415d8ee425f11e378043",
            "value": " 3.13G/3.13G [00:31&lt;00:00, 158MB/s]"
          }
        },
        "06b9936c25364ef1a0d3b845468d0ada": {
          "model_module": "@jupyter-widgets/base",
          "model_name": "LayoutModel",
          "model_module_version": "1.2.0",
          "state": {
            "_model_module": "@jupyter-widgets/base",
            "_model_module_version": "1.2.0",
            "_model_name": "LayoutModel",
            "_view_count": null,
            "_view_module": "@jupyter-widgets/base",
            "_view_module_version": "1.2.0",
            "_view_name": "LayoutView",
            "align_content": null,
            "align_items": null,
            "align_self": null,
            "border": null,
            "bottom": null,
            "display": null,
            "flex": null,
            "flex_flow": null,
            "grid_area": null,
            "grid_auto_columns": null,
            "grid_auto_flow": null,
            "grid_auto_rows": null,
            "grid_column": null,
            "grid_gap": null,
            "grid_row": null,
            "grid_template_areas": null,
            "grid_template_columns": null,
            "grid_template_rows": null,
            "height": null,
            "justify_content": null,
            "justify_items": null,
            "left": null,
            "margin": null,
            "max_height": null,
            "max_width": null,
            "min_height": null,
            "min_width": null,
            "object_fit": null,
            "object_position": null,
            "order": null,
            "overflow": null,
            "overflow_x": null,
            "overflow_y": null,
            "padding": null,
            "right": null,
            "top": null,
            "visibility": null,
            "width": null
          }
        },
        "6be85fa130ac49e7abc46b4171db511a": {
          "model_module": "@jupyter-widgets/base",
          "model_name": "LayoutModel",
          "model_module_version": "1.2.0",
          "state": {
            "_model_module": "@jupyter-widgets/base",
            "_model_module_version": "1.2.0",
            "_model_name": "LayoutModel",
            "_view_count": null,
            "_view_module": "@jupyter-widgets/base",
            "_view_module_version": "1.2.0",
            "_view_name": "LayoutView",
            "align_content": null,
            "align_items": null,
            "align_self": null,
            "border": null,
            "bottom": null,
            "display": null,
            "flex": null,
            "flex_flow": null,
            "grid_area": null,
            "grid_auto_columns": null,
            "grid_auto_flow": null,
            "grid_auto_rows": null,
            "grid_column": null,
            "grid_gap": null,
            "grid_row": null,
            "grid_template_areas": null,
            "grid_template_columns": null,
            "grid_template_rows": null,
            "height": null,
            "justify_content": null,
            "justify_items": null,
            "left": null,
            "margin": null,
            "max_height": null,
            "max_width": null,
            "min_height": null,
            "min_width": null,
            "object_fit": null,
            "object_position": null,
            "order": null,
            "overflow": null,
            "overflow_x": null,
            "overflow_y": null,
            "padding": null,
            "right": null,
            "top": null,
            "visibility": null,
            "width": null
          }
        },
        "01645a55e2964a2c91c300fb442d8122": {
          "model_module": "@jupyter-widgets/controls",
          "model_name": "DescriptionStyleModel",
          "model_module_version": "1.5.0",
          "state": {
            "_model_module": "@jupyter-widgets/controls",
            "_model_module_version": "1.5.0",
            "_model_name": "DescriptionStyleModel",
            "_view_count": null,
            "_view_module": "@jupyter-widgets/base",
            "_view_module_version": "1.2.0",
            "_view_name": "StyleView",
            "description_width": ""
          }
        },
        "256fae98c35e4043bd3eefa232b792db": {
          "model_module": "@jupyter-widgets/base",
          "model_name": "LayoutModel",
          "model_module_version": "1.2.0",
          "state": {
            "_model_module": "@jupyter-widgets/base",
            "_model_module_version": "1.2.0",
            "_model_name": "LayoutModel",
            "_view_count": null,
            "_view_module": "@jupyter-widgets/base",
            "_view_module_version": "1.2.0",
            "_view_name": "LayoutView",
            "align_content": null,
            "align_items": null,
            "align_self": null,
            "border": null,
            "bottom": null,
            "display": null,
            "flex": null,
            "flex_flow": null,
            "grid_area": null,
            "grid_auto_columns": null,
            "grid_auto_flow": null,
            "grid_auto_rows": null,
            "grid_column": null,
            "grid_gap": null,
            "grid_row": null,
            "grid_template_areas": null,
            "grid_template_columns": null,
            "grid_template_rows": null,
            "height": null,
            "justify_content": null,
            "justify_items": null,
            "left": null,
            "margin": null,
            "max_height": null,
            "max_width": null,
            "min_height": null,
            "min_width": null,
            "object_fit": null,
            "object_position": null,
            "order": null,
            "overflow": null,
            "overflow_x": null,
            "overflow_y": null,
            "padding": null,
            "right": null,
            "top": null,
            "visibility": null,
            "width": null
          }
        },
        "93da3dcaf5154c508f4d53a678c7369a": {
          "model_module": "@jupyter-widgets/controls",
          "model_name": "ProgressStyleModel",
          "model_module_version": "1.5.0",
          "state": {
            "_model_module": "@jupyter-widgets/controls",
            "_model_module_version": "1.5.0",
            "_model_name": "ProgressStyleModel",
            "_view_count": null,
            "_view_module": "@jupyter-widgets/base",
            "_view_module_version": "1.2.0",
            "_view_name": "StyleView",
            "bar_color": null,
            "description_width": ""
          }
        },
        "55e2a1fd6fd649a3ba82cc485fdd2ac4": {
          "model_module": "@jupyter-widgets/base",
          "model_name": "LayoutModel",
          "model_module_version": "1.2.0",
          "state": {
            "_model_module": "@jupyter-widgets/base",
            "_model_module_version": "1.2.0",
            "_model_name": "LayoutModel",
            "_view_count": null,
            "_view_module": "@jupyter-widgets/base",
            "_view_module_version": "1.2.0",
            "_view_name": "LayoutView",
            "align_content": null,
            "align_items": null,
            "align_self": null,
            "border": null,
            "bottom": null,
            "display": null,
            "flex": null,
            "flex_flow": null,
            "grid_area": null,
            "grid_auto_columns": null,
            "grid_auto_flow": null,
            "grid_auto_rows": null,
            "grid_column": null,
            "grid_gap": null,
            "grid_row": null,
            "grid_template_areas": null,
            "grid_template_columns": null,
            "grid_template_rows": null,
            "height": null,
            "justify_content": null,
            "justify_items": null,
            "left": null,
            "margin": null,
            "max_height": null,
            "max_width": null,
            "min_height": null,
            "min_width": null,
            "object_fit": null,
            "object_position": null,
            "order": null,
            "overflow": null,
            "overflow_x": null,
            "overflow_y": null,
            "padding": null,
            "right": null,
            "top": null,
            "visibility": null,
            "width": null
          }
        },
        "a5c8a8e2b7de415d8ee425f11e378043": {
          "model_module": "@jupyter-widgets/controls",
          "model_name": "DescriptionStyleModel",
          "model_module_version": "1.5.0",
          "state": {
            "_model_module": "@jupyter-widgets/controls",
            "_model_module_version": "1.5.0",
            "_model_name": "DescriptionStyleModel",
            "_view_count": null,
            "_view_module": "@jupyter-widgets/base",
            "_view_module_version": "1.2.0",
            "_view_name": "StyleView",
            "description_width": ""
          }
        },
        "4ed577e57c384c9a996aa6b17b7110ec": {
          "model_module": "@jupyter-widgets/controls",
          "model_name": "HBoxModel",
          "model_module_version": "1.5.0",
          "state": {
            "_dom_classes": [],
            "_model_module": "@jupyter-widgets/controls",
            "_model_module_version": "1.5.0",
            "_model_name": "HBoxModel",
            "_view_count": null,
            "_view_module": "@jupyter-widgets/controls",
            "_view_module_version": "1.5.0",
            "_view_name": "HBoxView",
            "box_style": "",
            "children": [
              "IPY_MODEL_3901a807f37e486ea1d483e394717ddb",
              "IPY_MODEL_c19c1140867a4e30bbcff4d529c4c353",
              "IPY_MODEL_bbd8083bf47c419189358251fcb14196"
            ],
            "layout": "IPY_MODEL_de57d0a32993428299a516496667d0df"
          }
        },
        "3901a807f37e486ea1d483e394717ddb": {
          "model_module": "@jupyter-widgets/controls",
          "model_name": "HTMLModel",
          "model_module_version": "1.5.0",
          "state": {
            "_dom_classes": [],
            "_model_module": "@jupyter-widgets/controls",
            "_model_module_version": "1.5.0",
            "_model_name": "HTMLModel",
            "_view_count": null,
            "_view_module": "@jupyter-widgets/controls",
            "_view_module_version": "1.5.0",
            "_view_name": "HTMLView",
            "description": "",
            "description_tooltip": null,
            "layout": "IPY_MODEL_c27a9642516743e787eeede121193f6e",
            "placeholder": "​",
            "style": "IPY_MODEL_ee181aff21d84b68bd68ef54f227644f",
            "value": "generation_config.json: 100%"
          }
        },
        "c19c1140867a4e30bbcff4d529c4c353": {
          "model_module": "@jupyter-widgets/controls",
          "model_name": "FloatProgressModel",
          "model_module_version": "1.5.0",
          "state": {
            "_dom_classes": [],
            "_model_module": "@jupyter-widgets/controls",
            "_model_module_version": "1.5.0",
            "_model_name": "FloatProgressModel",
            "_view_count": null,
            "_view_module": "@jupyter-widgets/controls",
            "_view_module_version": "1.5.0",
            "_view_name": "ProgressView",
            "bar_style": "success",
            "description": "",
            "description_tooltip": null,
            "layout": "IPY_MODEL_7b37ab206d9a4fcf97aaebe6970e99b9",
            "max": 147,
            "min": 0,
            "orientation": "horizontal",
            "style": "IPY_MODEL_3f6400720b87464d9c1703b1bde68f39",
            "value": 147
          }
        },
        "bbd8083bf47c419189358251fcb14196": {
          "model_module": "@jupyter-widgets/controls",
          "model_name": "HTMLModel",
          "model_module_version": "1.5.0",
          "state": {
            "_dom_classes": [],
            "_model_module": "@jupyter-widgets/controls",
            "_model_module_version": "1.5.0",
            "_model_name": "HTMLModel",
            "_view_count": null,
            "_view_module": "@jupyter-widgets/controls",
            "_view_module_version": "1.5.0",
            "_view_name": "HTMLView",
            "description": "",
            "description_tooltip": null,
            "layout": "IPY_MODEL_10643d87f33e491e833293e19eb839f8",
            "placeholder": "​",
            "style": "IPY_MODEL_12fdf5d9727f49ce9426e11720ffd638",
            "value": " 147/147 [00:00&lt;00:00, 7.61kB/s]"
          }
        },
        "de57d0a32993428299a516496667d0df": {
          "model_module": "@jupyter-widgets/base",
          "model_name": "LayoutModel",
          "model_module_version": "1.2.0",
          "state": {
            "_model_module": "@jupyter-widgets/base",
            "_model_module_version": "1.2.0",
            "_model_name": "LayoutModel",
            "_view_count": null,
            "_view_module": "@jupyter-widgets/base",
            "_view_module_version": "1.2.0",
            "_view_name": "LayoutView",
            "align_content": null,
            "align_items": null,
            "align_self": null,
            "border": null,
            "bottom": null,
            "display": null,
            "flex": null,
            "flex_flow": null,
            "grid_area": null,
            "grid_auto_columns": null,
            "grid_auto_flow": null,
            "grid_auto_rows": null,
            "grid_column": null,
            "grid_gap": null,
            "grid_row": null,
            "grid_template_areas": null,
            "grid_template_columns": null,
            "grid_template_rows": null,
            "height": null,
            "justify_content": null,
            "justify_items": null,
            "left": null,
            "margin": null,
            "max_height": null,
            "max_width": null,
            "min_height": null,
            "min_width": null,
            "object_fit": null,
            "object_position": null,
            "order": null,
            "overflow": null,
            "overflow_x": null,
            "overflow_y": null,
            "padding": null,
            "right": null,
            "top": null,
            "visibility": null,
            "width": null
          }
        },
        "c27a9642516743e787eeede121193f6e": {
          "model_module": "@jupyter-widgets/base",
          "model_name": "LayoutModel",
          "model_module_version": "1.2.0",
          "state": {
            "_model_module": "@jupyter-widgets/base",
            "_model_module_version": "1.2.0",
            "_model_name": "LayoutModel",
            "_view_count": null,
            "_view_module": "@jupyter-widgets/base",
            "_view_module_version": "1.2.0",
            "_view_name": "LayoutView",
            "align_content": null,
            "align_items": null,
            "align_self": null,
            "border": null,
            "bottom": null,
            "display": null,
            "flex": null,
            "flex_flow": null,
            "grid_area": null,
            "grid_auto_columns": null,
            "grid_auto_flow": null,
            "grid_auto_rows": null,
            "grid_column": null,
            "grid_gap": null,
            "grid_row": null,
            "grid_template_areas": null,
            "grid_template_columns": null,
            "grid_template_rows": null,
            "height": null,
            "justify_content": null,
            "justify_items": null,
            "left": null,
            "margin": null,
            "max_height": null,
            "max_width": null,
            "min_height": null,
            "min_width": null,
            "object_fit": null,
            "object_position": null,
            "order": null,
            "overflow": null,
            "overflow_x": null,
            "overflow_y": null,
            "padding": null,
            "right": null,
            "top": null,
            "visibility": null,
            "width": null
          }
        },
        "ee181aff21d84b68bd68ef54f227644f": {
          "model_module": "@jupyter-widgets/controls",
          "model_name": "DescriptionStyleModel",
          "model_module_version": "1.5.0",
          "state": {
            "_model_module": "@jupyter-widgets/controls",
            "_model_module_version": "1.5.0",
            "_model_name": "DescriptionStyleModel",
            "_view_count": null,
            "_view_module": "@jupyter-widgets/base",
            "_view_module_version": "1.2.0",
            "_view_name": "StyleView",
            "description_width": ""
          }
        },
        "7b37ab206d9a4fcf97aaebe6970e99b9": {
          "model_module": "@jupyter-widgets/base",
          "model_name": "LayoutModel",
          "model_module_version": "1.2.0",
          "state": {
            "_model_module": "@jupyter-widgets/base",
            "_model_module_version": "1.2.0",
            "_model_name": "LayoutModel",
            "_view_count": null,
            "_view_module": "@jupyter-widgets/base",
            "_view_module_version": "1.2.0",
            "_view_name": "LayoutView",
            "align_content": null,
            "align_items": null,
            "align_self": null,
            "border": null,
            "bottom": null,
            "display": null,
            "flex": null,
            "flex_flow": null,
            "grid_area": null,
            "grid_auto_columns": null,
            "grid_auto_flow": null,
            "grid_auto_rows": null,
            "grid_column": null,
            "grid_gap": null,
            "grid_row": null,
            "grid_template_areas": null,
            "grid_template_columns": null,
            "grid_template_rows": null,
            "height": null,
            "justify_content": null,
            "justify_items": null,
            "left": null,
            "margin": null,
            "max_height": null,
            "max_width": null,
            "min_height": null,
            "min_width": null,
            "object_fit": null,
            "object_position": null,
            "order": null,
            "overflow": null,
            "overflow_x": null,
            "overflow_y": null,
            "padding": null,
            "right": null,
            "top": null,
            "visibility": null,
            "width": null
          }
        },
        "3f6400720b87464d9c1703b1bde68f39": {
          "model_module": "@jupyter-widgets/controls",
          "model_name": "ProgressStyleModel",
          "model_module_version": "1.5.0",
          "state": {
            "_model_module": "@jupyter-widgets/controls",
            "_model_module_version": "1.5.0",
            "_model_name": "ProgressStyleModel",
            "_view_count": null,
            "_view_module": "@jupyter-widgets/base",
            "_view_module_version": "1.2.0",
            "_view_name": "StyleView",
            "bar_color": null,
            "description_width": ""
          }
        },
        "10643d87f33e491e833293e19eb839f8": {
          "model_module": "@jupyter-widgets/base",
          "model_name": "LayoutModel",
          "model_module_version": "1.2.0",
          "state": {
            "_model_module": "@jupyter-widgets/base",
            "_model_module_version": "1.2.0",
            "_model_name": "LayoutModel",
            "_view_count": null,
            "_view_module": "@jupyter-widgets/base",
            "_view_module_version": "1.2.0",
            "_view_name": "LayoutView",
            "align_content": null,
            "align_items": null,
            "align_self": null,
            "border": null,
            "bottom": null,
            "display": null,
            "flex": null,
            "flex_flow": null,
            "grid_area": null,
            "grid_auto_columns": null,
            "grid_auto_flow": null,
            "grid_auto_rows": null,
            "grid_column": null,
            "grid_gap": null,
            "grid_row": null,
            "grid_template_areas": null,
            "grid_template_columns": null,
            "grid_template_rows": null,
            "height": null,
            "justify_content": null,
            "justify_items": null,
            "left": null,
            "margin": null,
            "max_height": null,
            "max_width": null,
            "min_height": null,
            "min_width": null,
            "object_fit": null,
            "object_position": null,
            "order": null,
            "overflow": null,
            "overflow_x": null,
            "overflow_y": null,
            "padding": null,
            "right": null,
            "top": null,
            "visibility": null,
            "width": null
          }
        },
        "12fdf5d9727f49ce9426e11720ffd638": {
          "model_module": "@jupyter-widgets/controls",
          "model_name": "DescriptionStyleModel",
          "model_module_version": "1.5.0",
          "state": {
            "_model_module": "@jupyter-widgets/controls",
            "_model_module_version": "1.5.0",
            "_model_name": "DescriptionStyleModel",
            "_view_count": null,
            "_view_module": "@jupyter-widgets/base",
            "_view_module_version": "1.2.0",
            "_view_name": "StyleView",
            "description_width": ""
          }
        }
      }
    }
  },
  "cells": [
    {
      "cell_type": "markdown",
      "source": [
        "\n",
        "\n",
        "# **This is the starting of our notebook.**\n",
        "> ## The first part we import all the important things we need\n",
        ">> But first we install some stuff;\n",
        ">> - upgrade pip\n",
        ">> - install pytorch and torch data\n",
        ">> - install transformers model\n",
        ">> - dataset library\n",
        "\n",
        "> ## Then we import our necessary libraries\n",
        "> ## Config the git for pushing everything as we go along.\n",
        "\n"
      ],
      "metadata": {
        "id": "sJ1eqmKxNrPK"
      }
    },
    {
      "cell_type": "code",
      "execution_count": null,
      "metadata": {
        "id": "t9x8lYXWaEvn"
      },
      "outputs": [],
      "source": [
        "%pip install --upgrade pip\n",
        "%pip install --disable-pip-version-check \\\n",
        "    torch==1.13.1 \\\n",
        "    torchdata==0.5.1 --quiet\n",
        "\n",
        "%pip install \\\n",
        "    transformers==4.27.2 \\\n",
        "    datasets==2.11.0 --quiet"
      ]
    },
    {
      "cell_type": "code",
      "source": [
        "from datasets import load_dataset\n",
        "from transformers import AutoModelForSeq2SeqLM\n",
        "from transformers import AutoTokenizer\n",
        "from transformers import GenerationConfig\n"
      ],
      "metadata": {
        "id": "bMdOk1uccIRv"
      },
      "execution_count": 23,
      "outputs": []
    },
    {
      "cell_type": "markdown",
      "source": [
        "> Downloading our dialogsum dataset from hugging face."
      ],
      "metadata": {
        "id": "yJe7HG-3PKDY"
      }
    },
    {
      "cell_type": "code",
      "source": [
        "ds = load_dataset(\"knkarthick/dialogsum\")"
      ],
      "metadata": {
        "id": "dVDyEQ-rcPyP"
      },
      "execution_count": null,
      "outputs": []
    },
    {
      "cell_type": "markdown",
      "source": [
        "> Let's checkout one of the examples in dialogsum dataset."
      ],
      "metadata": {
        "id": "4C3nC6Z8rJNE"
      }
    },
    {
      "cell_type": "code",
      "source": [
        "dashline = '-' * 100\n",
        "\n",
        "print(dashline)\n",
        "print(\"EXAMPLE\")\n",
        "print(dashline)\n",
        "print(ds['test'][40]['dialogue'])\n",
        "print(dashline)\n",
        "print(\"SUMMARY\")\n",
        "print(dashline)\n",
        "print(ds['test'][40]['summary'])\n",
        "print(dashline)"
      ],
      "metadata": {
        "colab": {
          "base_uri": "https://localhost:8080/"
        },
        "id": "H9zVrNMJNlT2",
        "outputId": "7ebdd2e9-8212-4a7d-9a94-eb64f6ac9cc6"
      },
      "execution_count": 29,
      "outputs": [
        {
          "output_type": "stream",
          "name": "stdout",
          "text": [
            "----------------------------------------------------------------------------------------------------\n",
            "EXAMPLE\n",
            "----------------------------------------------------------------------------------------------------\n",
            "#Person1#: What time is it, Tom?\n",
            "#Person2#: Just a minute. It's ten to nine by my watch.\n",
            "#Person1#: Is it? I had no idea it was so late. I must be off now.\n",
            "#Person2#: What's the hurry?\n",
            "#Person1#: I must catch the nine-thirty train.\n",
            "#Person2#: You've plenty of time yet. The railway station is very close. It won't take more than twenty minutes to get there.\n",
            "----------------------------------------------------------------------------------------------------\n",
            "SUMMARY\n",
            "----------------------------------------------------------------------------------------------------\n",
            "#Person1# is in a hurry to catch a train. Tom tells #Person1# there is plenty of time.\n",
            "----------------------------------------------------------------------------------------------------\n"
          ]
        }
      ]
    },
    {
      "cell_type": "markdown",
      "source": [
        "> Now we going to load our FLAN-T5 model which can do whole lot of tasks, its LLM and we are going to use it to summarize the text."
      ],
      "metadata": {
        "id": "mk1E5J2etGlP"
      }
    },
    {
      "cell_type": "code",
      "source": [
        "model_name = \"google/flan-t5-large\"\n",
        "model = AutoModelForSeq2SeqLM.from_pretrained(model_name)\n"
      ],
      "metadata": {
        "colab": {
          "base_uri": "https://localhost:8080/",
          "height": 204,
          "referenced_widgets": [
            "8dd7973bd2114f9981874d4b9bba65dd",
            "5472973604bc48d1b1a461c67de46c1f",
            "6455c0c6b7d54d2a83dd02c8c220ed95",
            "b6151d40615c40aa819eb15b3cea5a95",
            "4a233d7a6bd946e7a6deb769798256ed",
            "f2bf2d661ded4af895fc789b68025c35",
            "55d4c2ace68845d59e5d89c9470e693b",
            "b70a9e7b22c948fcb804d2acb1daf76f",
            "18b8196adbcf419d9ffbc4fe1b62ff56",
            "509dd1cf42e54869994a0e6e9c4f2bb9",
            "744b36ee2ee44461b92e585649afe3ca",
            "920872e208e84864a70a69429872162c",
            "a95b4fa726a24883a398308c7855b917",
            "40b023e6e9944430b9165f4e39078b41",
            "8a7b727da5da4424ba310304e44fbb6a",
            "06b9936c25364ef1a0d3b845468d0ada",
            "6be85fa130ac49e7abc46b4171db511a",
            "01645a55e2964a2c91c300fb442d8122",
            "256fae98c35e4043bd3eefa232b792db",
            "93da3dcaf5154c508f4d53a678c7369a",
            "55e2a1fd6fd649a3ba82cc485fdd2ac4",
            "a5c8a8e2b7de415d8ee425f11e378043",
            "4ed577e57c384c9a996aa6b17b7110ec",
            "3901a807f37e486ea1d483e394717ddb",
            "c19c1140867a4e30bbcff4d529c4c353",
            "bbd8083bf47c419189358251fcb14196",
            "de57d0a32993428299a516496667d0df",
            "c27a9642516743e787eeede121193f6e",
            "ee181aff21d84b68bd68ef54f227644f",
            "7b37ab206d9a4fcf97aaebe6970e99b9",
            "3f6400720b87464d9c1703b1bde68f39",
            "10643d87f33e491e833293e19eb839f8",
            "12fdf5d9727f49ce9426e11720ffd638"
          ]
        },
        "id": "anOEfbwotQUg",
        "outputId": "afabd267-3a98-4360-fac1-b33a22bba79f"
      },
      "execution_count": 30,
      "outputs": [
        {
          "output_type": "stream",
          "name": "stderr",
          "text": [
            "/usr/local/lib/python3.10/dist-packages/huggingface_hub/file_download.py:1132: FutureWarning: `resume_download` is deprecated and will be removed in version 1.0.0. Downloads always resume when possible. If you want to force a new download, use `force_download=True`.\n",
            "  warnings.warn(\n"
          ]
        },
        {
          "output_type": "display_data",
          "data": {
            "text/plain": [
              "config.json:   0%|          | 0.00/662 [00:00<?, ?B/s]"
            ],
            "application/vnd.jupyter.widget-view+json": {
              "version_major": 2,
              "version_minor": 0,
              "model_id": "8dd7973bd2114f9981874d4b9bba65dd"
            }
          },
          "metadata": {}
        },
        {
          "output_type": "stream",
          "name": "stderr",
          "text": [
            "/usr/local/lib/python3.10/dist-packages/huggingface_hub/file_download.py:1132: FutureWarning: `resume_download` is deprecated and will be removed in version 1.0.0. Downloads always resume when possible. If you want to force a new download, use `force_download=True`.\n",
            "  warnings.warn(\n"
          ]
        },
        {
          "output_type": "display_data",
          "data": {
            "text/plain": [
              "model.safetensors:   0%|          | 0.00/3.13G [00:00<?, ?B/s]"
            ],
            "application/vnd.jupyter.widget-view+json": {
              "version_major": 2,
              "version_minor": 0,
              "model_id": "920872e208e84864a70a69429872162c"
            }
          },
          "metadata": {}
        },
        {
          "output_type": "display_data",
          "data": {
            "text/plain": [
              "generation_config.json:   0%|          | 0.00/147 [00:00<?, ?B/s]"
            ],
            "application/vnd.jupyter.widget-view+json": {
              "version_major": 2,
              "version_minor": 0,
              "model_id": "4ed577e57c384c9a996aa6b17b7110ec"
            }
          },
          "metadata": {}
        }
      ]
    },
    {
      "cell_type": "code",
      "source": [
        "tokenizer = AutoTokenizer.from_pretrained(model_name, use_fast = True)"
      ],
      "metadata": {
        "id": "RK3VtrqGuWTT"
      },
      "execution_count": null,
      "outputs": []
    },
    {
      "cell_type": "markdown",
      "source": [
        "> Input Sequences:\n",
        "> Sequence 1: \"Hello world!\" (length 2) <br>\n",
        "> Sequence 2: \"Hi!\" (length 1)<br>\n",
        ">\n",
        "> Padding: <br>\n",
        "> Sequence 1: \"Hello world!\" (padded length 3)<br>\n",
        "> Sequence 2: \"Hi! <PAD>\" (padded length 3)<br>\n",
        ">\n",
        "> Attention Mask:<br>\n",
        "> Sequence 1: [1, 1, 1]<br>\n",
        "> Sequence 2: [1, 1, 0]\n"
      ],
      "metadata": {
        "id": "UyaQjZX6w04G"
      }
    },
    {
      "cell_type": "code",
      "source": [
        "example_text = \"Caesar is a good dirty cat\"\n",
        "\n",
        "string_encode = tokenizer(example_text, return_tensors=\"pt\")\n",
        "\n",
        "string_decode = tokenizer.decode(string_encode['input_ids'][0][6], skip_special_tokens=True)\n",
        "\n",
        "print(string_encode)\n",
        "print(string_decode)"
      ],
      "metadata": {
        "colab": {
          "base_uri": "https://localhost:8080/"
        },
        "id": "M3s3F_RsuXk8",
        "outputId": "196aa4e7-718d-44c0-aa7c-4c7e870bccfe"
      },
      "execution_count": 32,
      "outputs": [
        {
          "output_type": "stream",
          "name": "stdout",
          "text": [
            "{'input_ids': tensor([[26218,    19,     3,     9,   207, 13086,  1712,     1]]), 'attention_mask': tensor([[1, 1, 1, 1, 1, 1, 1, 1]])}\n",
            "cat\n"
          ]
        }
      ]
    },
    {
      "cell_type": "markdown",
      "source": [
        "## Now we are going to use the model to generate our summary without prompt engineering. And then we are gonna use Zero, one and few shot inference to see how it goes."
      ],
      "metadata": {
        "id": "Rl9WY4R6z6Uc"
      }
    },
    {
      "cell_type": "code",
      "source": [
        "indices = [40, 200]\n",
        "\n",
        "for i, index in enumerate(indices):\n",
        "\n",
        "  dialogue = ds['test'][index]['dialogue']\n",
        "  summary = ds['test'][index]['summary']\n",
        "\n",
        "  input = tokenizer(ds['test'][index]['dialogue'], return_tensors=\"pt\")\n",
        "  output = tokenizer.decode(model.generate(input['input_ids'], max_new_tokens=100)[0], skip_special_tokens=True)\n",
        "\n",
        "  print(dashline)\n",
        "  print(f\"EXAMPLE : {i + 1}\")\n",
        "  print(dashline)\n",
        "  print(ds['test'][index]['dialogue'])\n",
        "  print(dashline)\n",
        "  print(f\"SUMMARY by human : {summary}\")\n",
        "  print(f\"\\n{dashline}\")\n",
        "  print(f\"SUMMARY by model (WITHOUT PROMPT ENGINEERING): {output}\")\n",
        "  print(dashline)\n",
        "  print()"
      ],
      "metadata": {
        "colab": {
          "base_uri": "https://localhost:8080/"
        },
        "id": "5Z6p2Zfuxd9O",
        "outputId": "9fcc64f9-d56d-4064-9d40-015306d3f9d3"
      },
      "execution_count": 33,
      "outputs": [
        {
          "output_type": "stream",
          "name": "stdout",
          "text": [
            "----------------------------------------------------------------------------------------------------\n",
            "EXAMPLE : 1\n",
            "----------------------------------------------------------------------------------------------------\n",
            "#Person1#: What time is it, Tom?\n",
            "#Person2#: Just a minute. It's ten to nine by my watch.\n",
            "#Person1#: Is it? I had no idea it was so late. I must be off now.\n",
            "#Person2#: What's the hurry?\n",
            "#Person1#: I must catch the nine-thirty train.\n",
            "#Person2#: You've plenty of time yet. The railway station is very close. It won't take more than twenty minutes to get there.\n",
            "----------------------------------------------------------------------------------------------------\n",
            "SUMMARY by human : #Person1# is in a hurry to catch a train. Tom tells #Person1# there is plenty of time.\n",
            "\n",
            "----------------------------------------------------------------------------------------------------\n",
            "SUMMARY by model (WITHOUT PROMPT ENGINEERING): #Person1#: I'm afraid I'm late.\n",
            "----------------------------------------------------------------------------------------------------\n",
            "\n",
            "----------------------------------------------------------------------------------------------------\n",
            "EXAMPLE : 2\n",
            "----------------------------------------------------------------------------------------------------\n",
            "#Person1#: Have you considered upgrading your system?\n",
            "#Person2#: Yes, but I'm not sure what exactly I would need.\n",
            "#Person1#: You could consider adding a painting program to your software. It would allow you to make up your own flyers and banners for advertising.\n",
            "#Person2#: That would be a definite bonus.\n",
            "#Person1#: You might also want to upgrade your hardware because it is pretty outdated now.\n",
            "#Person2#: How can we do that?\n",
            "#Person1#: You'd probably need a faster processor, to begin with. And you also need a more powerful hard disc, more memory and a faster modem. Do you have a CD-ROM drive?\n",
            "#Person2#: No.\n",
            "#Person1#: Then you might want to add a CD-ROM drive too, because most new software programs are coming out on Cds.\n",
            "#Person2#: That sounds great. Thanks.\n",
            "----------------------------------------------------------------------------------------------------\n",
            "SUMMARY by human : #Person1# teaches #Person2# how to upgrade software and hardware in #Person2#'s system.\n",
            "\n",
            "----------------------------------------------------------------------------------------------------\n",
            "SUMMARY by model (WITHOUT PROMPT ENGINEERING): #Person1#: You might want to upgrade your hardware.\n",
            "----------------------------------------------------------------------------------------------------\n",
            "\n"
          ]
        }
      ]
    },
    {
      "cell_type": "markdown",
      "source": [
        "### Zero shot inference\n"
      ],
      "metadata": {
        "id": "hjh4d8VF2YvW"
      }
    },
    {
      "cell_type": "code",
      "source": [
        "indices = [40, 200]\n",
        "\n",
        "for i, index in enumerate(indices):\n",
        "\n",
        "  dialogue = ds['test'][index]['dialogue']\n",
        "  summary = ds['test'][index]['summary']\n",
        "\n",
        "  prompt = f\"\"\"\n",
        "  The dialogue is given below:\n",
        "  {dialogue}\n",
        "\n",
        "  The summary of the dialogue is;\n",
        "  \"\"\"\n",
        "\n",
        "  input = tokenizer(prompt, return_tensors=\"pt\")\n",
        "  output = tokenizer.decode(model.generate(input['input_ids'], max_new_tokens=100)[0], skip_special_tokens=True)\n",
        "\n",
        "  print(dashline)\n",
        "  print(f\"EXAMPLE : {i + 1}\")\n",
        "  print(dashline)\n",
        "  print(prompt)\n",
        "  print(dashline)\n",
        "  print(f\"SUMMARY by human : {summary}\")\n",
        "  print(f\"\\n{dashline}\")\n",
        "  print(f\"SUMMARY by model (WITH ZERO SHOT INFERENCE): {output}\")\n",
        "  print(dashline)\n",
        "  print()"
      ],
      "metadata": {
        "colab": {
          "base_uri": "https://localhost:8080/"
        },
        "id": "kp8RrZw_3Vru",
        "outputId": "ca5e8b91-7e94-4677-fe5d-7d9d5b440a9d"
      },
      "execution_count": 34,
      "outputs": [
        {
          "output_type": "stream",
          "name": "stdout",
          "text": [
            "----------------------------------------------------------------------------------------------------\n",
            "EXAMPLE : 1\n",
            "----------------------------------------------------------------------------------------------------\n",
            "\n",
            "  The dialogue is given below:\n",
            "  #Person1#: What time is it, Tom?\n",
            "#Person2#: Just a minute. It's ten to nine by my watch.\n",
            "#Person1#: Is it? I had no idea it was so late. I must be off now.\n",
            "#Person2#: What's the hurry?\n",
            "#Person1#: I must catch the nine-thirty train.\n",
            "#Person2#: You've plenty of time yet. The railway station is very close. It won't take more than twenty minutes to get there.\n",
            "\n",
            "  The summary of the dialogue is;\n",
            "  \n",
            "----------------------------------------------------------------------------------------------------\n",
            "SUMMARY by human : #Person1# is in a hurry to catch a train. Tom tells #Person1# there is plenty of time.\n",
            "\n",
            "----------------------------------------------------------------------------------------------------\n",
            "SUMMARY by model (WITH ZERO SHOT INFERENCE): Person1 is late for his train. He has to get off now.\n",
            "----------------------------------------------------------------------------------------------------\n",
            "\n",
            "----------------------------------------------------------------------------------------------------\n",
            "EXAMPLE : 2\n",
            "----------------------------------------------------------------------------------------------------\n",
            "\n",
            "  The dialogue is given below:\n",
            "  #Person1#: Have you considered upgrading your system?\n",
            "#Person2#: Yes, but I'm not sure what exactly I would need.\n",
            "#Person1#: You could consider adding a painting program to your software. It would allow you to make up your own flyers and banners for advertising.\n",
            "#Person2#: That would be a definite bonus.\n",
            "#Person1#: You might also want to upgrade your hardware because it is pretty outdated now.\n",
            "#Person2#: How can we do that?\n",
            "#Person1#: You'd probably need a faster processor, to begin with. And you also need a more powerful hard disc, more memory and a faster modem. Do you have a CD-ROM drive?\n",
            "#Person2#: No.\n",
            "#Person1#: Then you might want to add a CD-ROM drive too, because most new software programs are coming out on Cds.\n",
            "#Person2#: That sounds great. Thanks.\n",
            "\n",
            "  The summary of the dialogue is;\n",
            "  \n",
            "----------------------------------------------------------------------------------------------------\n",
            "SUMMARY by human : #Person1# teaches #Person2# how to upgrade software and hardware in #Person2#'s system.\n",
            "\n",
            "----------------------------------------------------------------------------------------------------\n",
            "SUMMARY by model (WITH ZERO SHOT INFERENCE): #Person2 has considered upgrading his system. He would like to add a painting program to his software. He needs a faster processor, more memory, a faster modem and a CD-ROM drive.\n",
            "----------------------------------------------------------------------------------------------------\n",
            "\n"
          ]
        }
      ]
    },
    {
      "cell_type": "markdown",
      "source": [
        "#### But first lets make a function for usability"
      ],
      "metadata": {
        "id": "2X2mCR3h2b4o"
      }
    },
    {
      "cell_type": "code",
      "source": [
        "def generate_prompts(indice_of_the_example, indice_of_summary):\n",
        "  prompt = ''\n",
        "  for i in indice_of_the_example:\n",
        "    dialogue = ds['test'][i]['dialogue']\n",
        "    summary = ds['test'][i]['summary']\n",
        "\n",
        "    prompt += f\"\"\"\n",
        "The dialogue is given below:\n",
        "{dialogue}\n",
        "{dashline}\n",
        "The summary of the dialogue is;\n",
        "{summary}\n",
        "{dashline}\n",
        "    \"\"\"\n",
        "\n",
        "  prompt+= f\"\"\"\n",
        "Now look at the example above and try to summarize this dialogue given below\n",
        "\n",
        "{ds['test'][indice_of_summary]['dialogue']}\n",
        "\n",
        "The summary : \"\"\"\n",
        "\n",
        "  return prompt\n"
      ],
      "metadata": {
        "id": "TinpBl3r2gRg"
      },
      "execution_count": 35,
      "outputs": []
    },
    {
      "cell_type": "markdown",
      "source": [
        "### Now for one shot inference and few shot inference :"
      ],
      "metadata": {
        "id": "20e-tH2r5E8Z"
      }
    },
    {
      "cell_type": "code",
      "source": [
        "indice_of_the_example = [40, 300]\n",
        "indice_of_summary = 200\n",
        "prompt = generate_prompts(indice_of_the_example, indice_of_summary)"
      ],
      "metadata": {
        "id": "iQR44fSy4Yus"
      },
      "execution_count": 36,
      "outputs": []
    },
    {
      "cell_type": "code",
      "source": [
        "input = tokenizer(prompt, return_tensors=\"pt\")\n",
        "output = tokenizer.decode(model.generate(input['input_ids'], max_new_tokens=100)[0], skip_special_tokens=True)\n",
        "\n",
        "print(dashline)\n",
        "print(\"EXAMPLE \")\n",
        "print(dashline)\n",
        "print(prompt)\n",
        "print(dashline)\n",
        "print(f\"SUMMARY by human : {ds['test'][indice_of_summary]['summary']}\")\n",
        "print(f\"\\n{dashline}\")\n",
        "print(f\"SUMMARY by model (WITH FEW SHOT INFERENCE): {output}\")\n",
        "print(dashline)\n",
        "print()"
      ],
      "metadata": {
        "colab": {
          "base_uri": "https://localhost:8080/"
        },
        "id": "N82vAXn-5Id5",
        "outputId": "8f58502e-1e22-4de6-958b-548622826881"
      },
      "execution_count": 37,
      "outputs": [
        {
          "output_type": "stream",
          "name": "stderr",
          "text": [
            "Token indices sequence length is longer than the specified maximum sequence length for this model (838 > 512). Running this sequence through the model will result in indexing errors\n"
          ]
        },
        {
          "output_type": "stream",
          "name": "stdout",
          "text": [
            "----------------------------------------------------------------------------------------------------\n",
            "EXAMPLE \n",
            "----------------------------------------------------------------------------------------------------\n",
            " \n",
            "The dialogue is given below:\n",
            "#Person1#: What time is it, Tom?\n",
            "#Person2#: Just a minute. It's ten to nine by my watch.\n",
            "#Person1#: Is it? I had no idea it was so late. I must be off now.\n",
            "#Person2#: What's the hurry?\n",
            "#Person1#: I must catch the nine-thirty train.\n",
            "#Person2#: You've plenty of time yet. The railway station is very close. It won't take more than twenty minutes to get there. \n",
            "----------------------------------------------------------------------------------------------------\n",
            "The summary of the dialogue is;\n",
            "#Person1# is in a hurry to catch a train. Tom tells #Person1# there is plenty of time.\n",
            "----------------------------------------------------------------------------------------------------\n",
            "     \n",
            "The dialogue is given below:\n",
            "#Person1#: I cannot imagine if Trump were to be our President again.\n",
            "#Person2#: I am proud to say that he is our President, and I will be really happy if he could be re-elected.\n",
            "#Person1#: You voted for him, right?\n",
            "#Person2#: Did you vote for him, because I know that I did.\n",
            "#Person1#: I am not sure about this.\n",
            "#Person2#: I have nothing but faith in Trump.\n",
            "#Person1#: What?\n",
            "#Person2#: I am pretty sure he will make America great again!\n",
            "#Person1#: Well, though we do need some change in this country, I don't think he is the right person.\n",
            "#Person2#: Our country is already changing as it is.\n",
            "#Person1#: You are right about this.\n",
            "#Person2#: I trust that he will take good care of our country.\n",
            "#Person1#: Well, I don't think so. I will vote for Biden anyway. \n",
            "----------------------------------------------------------------------------------------------------\n",
            "The summary of the dialogue is;\n",
            "#Person1# is crazy for Trump and voted for him. #Person2# doesn't agree with #Person1# on Trump and will vote for Biden.\n",
            "----------------------------------------------------------------------------------------------------\n",
            "    \n",
            "Now look at the example above and try to summarize this dialogue given below\n",
            "\n",
            "#Person1#: Have you considered upgrading your system?\n",
            "#Person2#: Yes, but I'm not sure what exactly I would need.\n",
            "#Person1#: You could consider adding a painting program to your software. It would allow you to make up your own flyers and banners for advertising.\n",
            "#Person2#: That would be a definite bonus.\n",
            "#Person1#: You might also want to upgrade your hardware because it is pretty outdated now.\n",
            "#Person2#: How can we do that?\n",
            "#Person1#: You'd probably need a faster processor, to begin with. And you also need a more powerful hard disc, more memory and a faster modem. Do you have a CD-ROM drive?\n",
            "#Person2#: No.\n",
            "#Person1#: Then you might want to add a CD-ROM drive too, because most new software programs are coming out on Cds.\n",
            "#Person2#: That sounds great. Thanks.   \n",
            "\n",
            "The summary : \n",
            "----------------------------------------------------------------------------------------------------\n",
            "SUMMARY by human : #Person1# teaches #Person2# how to upgrade software and hardware in #Person2#'s system.\n",
            "\n",
            "----------------------------------------------------------------------------------------------------\n",
            "SUMMARY by model (WITH FEW SHOT INFERENCE): Person2 is considering upgrading his system. He needs a faster processor, more memory, a faster modem and a CD-ROM drive.\n",
            "----------------------------------------------------------------------------------------------------\n",
            "\n"
          ]
        }
      ]
    },
    {
      "cell_type": "markdown",
      "source": [
        "## For the last part, we are going to do a bit tweaking with the model configuration and see what happens."
      ],
      "metadata": {
        "id": "Ovh0SA2m7nrY"
      }
    },
    {
      "cell_type": "code",
      "source": [
        "generation_configuration = GenerationConfig(\n",
        "    num_beams=3,\n",
        "    num_return_sequences=1,\n",
        "    max_new_tokens = 100,\n",
        "    do_sample = True,\n",
        "    temperature = 0.9)\n",
        "\n",
        "input = tokenizer(prompt, return_tensors=\"pt\")\n",
        "output = tokenizer.decode(\n",
        "          model.generate(\n",
        "            input['input_ids'],\n",
        "            generation_config=generation_configuration)[0],\n",
        "          skip_special_tokens=True)\n",
        "\n",
        "print(dashline)\n",
        "print(\"EXAMPLE \")\n",
        "print(dashline)\n",
        "print(prompt)\n",
        "print(dashline)\n",
        "print(f\"SUMMARY by human : {ds['test'][indice_of_summary]['summary']}\")\n",
        "print(f\"\\n{dashline}\")\n",
        "print(f\"SUMMARY by model (WITH FEW SHOT INFERENCE WITH CONFIG): {output}\")\n",
        "print(dashline)\n",
        "print()"
      ],
      "metadata": {
        "colab": {
          "base_uri": "https://localhost:8080/"
        },
        "id": "BmXAGSY67ure",
        "outputId": "17909665-2160-4322-cd5e-83538b900f82"
      },
      "execution_count": 40,
      "outputs": [
        {
          "output_type": "stream",
          "name": "stdout",
          "text": [
            "----------------------------------------------------------------------------------------------------\n",
            "EXAMPLE \n",
            "----------------------------------------------------------------------------------------------------\n",
            " \n",
            "The dialogue is given below:\n",
            "#Person1#: What time is it, Tom?\n",
            "#Person2#: Just a minute. It's ten to nine by my watch.\n",
            "#Person1#: Is it? I had no idea it was so late. I must be off now.\n",
            "#Person2#: What's the hurry?\n",
            "#Person1#: I must catch the nine-thirty train.\n",
            "#Person2#: You've plenty of time yet. The railway station is very close. It won't take more than twenty minutes to get there. \n",
            "----------------------------------------------------------------------------------------------------\n",
            "The summary of the dialogue is;\n",
            "#Person1# is in a hurry to catch a train. Tom tells #Person1# there is plenty of time.\n",
            "----------------------------------------------------------------------------------------------------\n",
            "     \n",
            "The dialogue is given below:\n",
            "#Person1#: I cannot imagine if Trump were to be our President again.\n",
            "#Person2#: I am proud to say that he is our President, and I will be really happy if he could be re-elected.\n",
            "#Person1#: You voted for him, right?\n",
            "#Person2#: Did you vote for him, because I know that I did.\n",
            "#Person1#: I am not sure about this.\n",
            "#Person2#: I have nothing but faith in Trump.\n",
            "#Person1#: What?\n",
            "#Person2#: I am pretty sure he will make America great again!\n",
            "#Person1#: Well, though we do need some change in this country, I don't think he is the right person.\n",
            "#Person2#: Our country is already changing as it is.\n",
            "#Person1#: You are right about this.\n",
            "#Person2#: I trust that he will take good care of our country.\n",
            "#Person1#: Well, I don't think so. I will vote for Biden anyway. \n",
            "----------------------------------------------------------------------------------------------------\n",
            "The summary of the dialogue is;\n",
            "#Person1# is crazy for Trump and voted for him. #Person2# doesn't agree with #Person1# on Trump and will vote for Biden.\n",
            "----------------------------------------------------------------------------------------------------\n",
            "    \n",
            "Now look at the example above and try to summarize this dialogue given below\n",
            "\n",
            "#Person1#: Have you considered upgrading your system?\n",
            "#Person2#: Yes, but I'm not sure what exactly I would need.\n",
            "#Person1#: You could consider adding a painting program to your software. It would allow you to make up your own flyers and banners for advertising.\n",
            "#Person2#: That would be a definite bonus.\n",
            "#Person1#: You might also want to upgrade your hardware because it is pretty outdated now.\n",
            "#Person2#: How can we do that?\n",
            "#Person1#: You'd probably need a faster processor, to begin with. And you also need a more powerful hard disc, more memory and a faster modem. Do you have a CD-ROM drive?\n",
            "#Person2#: No.\n",
            "#Person1#: Then you might want to add a CD-ROM drive too, because most new software programs are coming out on Cds.\n",
            "#Person2#: That sounds great. Thanks.   \n",
            "\n",
            "The summary : \n",
            "----------------------------------------------------------------------------------------------------\n",
            "SUMMARY by human : #Person1# teaches #Person2# how to upgrade software and hardware in #Person2#'s system.\n",
            "\n",
            "----------------------------------------------------------------------------------------------------\n",
            "SUMMARY by model (WITH FEW SHOT INFERENCE WITH CONFIG): Person2 is considering upgrading his system. He would like to add a painting program to his software and upgrade his hardware.\n",
            "----------------------------------------------------------------------------------------------------\n",
            "\n"
          ]
        }
      ]
    },
    {
      "cell_type": "markdown",
      "source": [
        "> The parameters we have used here are;\n",
        "- do_sample : which basically means do shuffling and pick one\n",
        "- temperature : More the temperature, higher the randomness\n",
        "- num_beams : Higher the number, higher the exploration\n",
        "- num_return_sequence : Higher the number, multiple sequence return\n",
        "- top_p=0.9  # Nucleus sampling to avoid extreme probabilities\n",
        "\n",
        "Interaction Between num_beams and num_return_sequences:\n",
        "When used together, these parameters can control the diversity and quality of the generated sequences:\n",
        "\n",
        "High num_beams, Low num_return_sequences:\n",
        "Focuses on generating a few high-quality sequences by thoroughly exploring the most promising paths.<br>\n",
        "<br>\n",
        "Low num_beams, High num_return_sequences:\n",
        "Generates more diverse sequences by sampling more paths but with less depth in exploration.<br><br>\n",
        "High num_beams, High num_return_sequences:\n",
        "Balances between diversity and quality by exploring multiple promising paths and generating multiple sequences from each path.<br><br>\n",
        "\n",
        "**The higher the number of beams and return sequence, the more time it takes. Better to keep the beams moderate number and and return seq = 1. Also higher the beam and temperature, the more flexible the answer gonna be, meaning less accurate sometimes.**"
      ],
      "metadata": {
        "id": "q1zw8zQ39_8R"
      }
    }
  ]
}